{
  "cells": [
    {
      "cell_type": "code",
      "execution_count": 1,
      "metadata": {
        "id": "jx96gU9HIWla"
      },
      "outputs": [
        {
          "name": "stdout",
          "output_type": "stream",
          "text": [
            "Temperatura fora do intervalo válido. Tente novamente.\n",
            "\n",
            "Temperatura média máxima anual:   4.00 graus Celsius\n",
            "Quantidade de meses escaldantes:   1\n",
            "Mês mais escaldante do ano:   julho\n",
            "Mês menos quente do ano:   dezembro\n"
          ]
        }
      ],
      "source": [
        "# DESAFIO PROJETO 1 - Realizado via Google Collab.\n",
        "\n",
        "'''Fontes: Funções utilizadas em aula.\n",
        "\n",
        "Bibliografias: - Aprenda Python 3 do Jeito Certo (Exercicios 29 ao 35)\n",
        "- Lógica de programação: a construção de algoritmos e estruturas de dados (3 edição)\n",
        "André Luiz Villar Forbellone ; Henri Frederico Eberspacher\n",
        "- Introdução à Computação Usando Python - Um Foco no Desenvolvimento de Aplicações - jubomir Perkovic'''\n",
        "\n",
        "# INSERINDO TEMPERATURA DENTRO DE INTERVALO\n",
        "''' Interessante dividir os blocos do código por funções.Não encontrei nenhuma restrição nas regras do projeto, razão pela qual, acredito que dessa forma seja melhor para organizar\n",
        "Me inspirei também, nos exemplos dos livros.'''\n",
        "\n",
        "def graus(temp):\n",
        "    # Substituindo vírgula por ponto, se necessário\n",
        "    if ',' in temp:\n",
        "        temp = temp.replace(',', '.')\n",
        "\n",
        "    temperatura = float(temp)\n",
        "\n",
        "# Checando se a temperatura está dentro do intervalo válido proposto pelo exercício (-60 e +50 Graus)\n",
        "    if not (-60 <= temperatura <= 50):\n",
        "        print('Temperatura fora do intervalo válido. Tente novamente.')\n",
        "        return False, 0\n",
        "    return True, temperatura\n",
        "\n",
        "\n",
        "# Obtendo o nome do mês por meio do índice (aula 5)\n",
        "''' nota: separar o código com True ou False me auxilou à visualizar o que estou fazendo.'''\n",
        "\n",
        "\n",
        "def meses(numero):\n",
        "    nomes_meses = [\"janeiro\", \"fevereiro\", \"março\", \"abril\", \"maio\", \"junho\", \"julho\", \"agosto\", \"setembro\", \"outubro\", \"novembro\", \"dezembro\"]\n",
        "    return nomes_meses[numero - 1]\n",
        "\n",
        "# Definindo variáveis\n",
        "temperaturas_maximas = []\n",
        "meses_escaldantes = 0\n",
        "mes_mais_escaldante = \"\"\n",
        "maior_temperatura = float('-inf')\n",
        "menor_temperatura = float('inf')\n",
        "mes_menos_quente = \"\"\n",
        "\n",
        "# Coletando dados com loop e estipulando limites\n",
        "'''O uso do FOR me fez criar sintaxes gigantescas, razão pela qual, optei por seguir com a lógica do TRUE ou FALSE'''\n",
        "\n",
        "for mes_numero in range(1, 13):\n",
        "    while True:\n",
        "        # Solicita a temperatura ao usuário para o mês correspondente\n",
        "        temp = input(f\"Informe a temperatura máxima para o mês {meses(mes_numero)}: \")\n",
        "\n",
        "        # Valida a temperatura utilizando a função graus\n",
        "        validacao_temperatura_maxima = graus(temp)\n",
        "\n",
        "        # Condições\n",
        "        if validacao_temperatura_maxima[0]:\n",
        "            temperatura_maxima = validacao_temperatura_maxima[1]\n",
        "            break\n",
        "        else:\n",
        "            continue\n",
        "\n",
        "    temperaturas_maximas.append(temperatura_maxima)\n",
        "\n",
        "  # Verificação se a temperatura é considerada escaldante\n",
        "    if temperatura_maxima > 33:\n",
        "        meses_escaldantes += 1\n",
        "\n",
        "    # Atualiza a maior temperatura e o mês correspondente\n",
        "    if temperatura_maxima > maior_temperatura:\n",
        "        maior_temperatura = temperatura_maxima\n",
        "        mes_mais_escaldante = meses(mes_numero)\n",
        "\n",
        "    # Atualiza a menor temperatura e o mês correspondente\n",
        "    if temperatura_maxima < menor_temperatura:\n",
        "        menor_temperatura = temperatura_maxima\n",
        "        mes_menos_quente = meses(mes_numero)\n",
        "\n",
        "# Calculando estatísticas adicionais evitando divisor por zero\n",
        "if temperaturas_maximas:\n",
        "    temperatura_media_maxima_anual = sum(temperaturas_maximas) / len(temperaturas_maximas)\n",
        "else:\n",
        "    temperatura_media_maxima_anual = 0\n",
        "\n",
        "# Exibindo resultados\n",
        "print(f\"\\nTemperatura média máxima anual:   {temperatura_media_maxima_anual:.2f} graus Celsius\")\n",
        "print(f\"Quantidade de meses escaldantes:   {meses_escaldantes}\")\n",
        "print(f\"Mês mais escaldante do ano:   {mes_mais_escaldante}\")\n",
        "print(f\"Mês menos quente do ano:   {mes_menos_quente}\")"
      ]
    }
  ],
  "metadata": {
    "colab": {
      "provenance": []
    },
    "kernelspec": {
      "display_name": "Python 3",
      "name": "python3"
    },
    "language_info": {
      "codemirror_mode": {
        "name": "ipython",
        "version": 3
      },
      "file_extension": ".py",
      "mimetype": "text/x-python",
      "name": "python",
      "nbconvert_exporter": "python",
      "pygments_lexer": "ipython3",
      "version": "3.12.2"
    }
  },
  "nbformat": 4,
  "nbformat_minor": 0
}
